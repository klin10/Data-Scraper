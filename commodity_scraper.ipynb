{
 "cells": [
  {
   "cell_type": "code",
   "execution_count": 55,
   "metadata": {
    "collapsed": false
   },
   "outputs": [],
   "source": [
    "from urllib2 import Request, urlopen\n",
    "from requests import Session\n",
    "from lxml import html\n",
    "import requests\n",
    "import csv, sys\n",
    "import pandas as pd"
   ]
  },
  {
   "cell_type": "code",
   "execution_count": 56,
   "metadata": {
    "collapsed": true
   },
   "outputs": [],
   "source": [
    "def getDefaultCommodityPrice ():\n",
    "    '''\n",
    "    Default scraper that fetch from two end investing.com point (gold and silver)\n",
    "    Uses session and xpath to scrap the xml data by locating the curr_table\n",
    "    \n",
    "    Output: Return void\n",
    "        Two files in the current directory with gold.xlsx and silver.xlsx\n",
    "    '''\n",
    "    commodities = ['gold', 'silver']\n",
    "    hist_substring = '-historical-data'\n",
    "    file_extension = '.csv'\n",
    "    csv_column = ['Date', 'Price', 'Open', 'High', 'Low', 'Vol', 'Change %']\n",
    "    end_point = 'https://www.investing.com/commodities/'\n",
    "    xpath_pattern = '//*[@id=\"curr_table\"]/tbody/tr/td/text()'\n",
    "    header = {'User-Agent': 'Mozilla/5.0'}\n",
    "\n",
    "    for commodity in commodities:\n",
    "        #open request and fetch raw data\n",
    "        req = Request(''.join([end_point,commodity,hist_substring]), headers=header)\n",
    "        webpage = urlopen(req).read()\n",
    "        tree = html.fromstring(webpage)\n",
    "        #locate the table content\n",
    "        data = tree.xpath(xpath_pattern)\n",
    "        filename = ''.join([commodity, file_extension])\n",
    "        #Write to CSV\n",
    "        with open(filename, 'wb') as f:\n",
    "            writer = csv.writer(f)\n",
    "            writer.writerow(csv_column)\n",
    "            for i in range(0, len(data), 7):\n",
    "                writer.writerow(data[i:i+7])"
   ]
  },
  {
   "cell_type": "code",
   "execution_count": 57,
   "metadata": {
    "collapsed": false
   },
   "outputs": [
    {
     "data": {
      "text/html": [
       "<div>\n",
       "<style>\n",
       "    .dataframe thead tr:only-child th {\n",
       "        text-align: right;\n",
       "    }\n",
       "\n",
       "    .dataframe thead th {\n",
       "        text-align: left;\n",
       "    }\n",
       "\n",
       "    .dataframe tbody tr th {\n",
       "        vertical-align: top;\n",
       "    }\n",
       "</style>\n",
       "<table border=\"1\" class=\"dataframe\">\n",
       "  <thead>\n",
       "    <tr style=\"text-align: right;\">\n",
       "      <th></th>\n",
       "      <th>Date</th>\n",
       "      <th>Price</th>\n",
       "      <th>Open</th>\n",
       "      <th>High</th>\n",
       "      <th>Low</th>\n",
       "      <th>Vol</th>\n",
       "      <th>Change %</th>\n",
       "    </tr>\n",
       "  </thead>\n",
       "  <tbody>\n",
       "    <tr>\n",
       "      <th>0</th>\n",
       "      <td>May 26, 2017</td>\n",
       "      <td>1,268.10</td>\n",
       "      <td>1,255.10</td>\n",
       "      <td>1,269.30</td>\n",
       "      <td>1,252.60</td>\n",
       "      <td>-</td>\n",
       "      <td>0.93%</td>\n",
       "    </tr>\n",
       "    <tr>\n",
       "      <th>1</th>\n",
       "      <td>May 25, 2017</td>\n",
       "      <td>1,256.40</td>\n",
       "      <td>1,258.40</td>\n",
       "      <td>1,259.40</td>\n",
       "      <td>1,253.50</td>\n",
       "      <td>202.85K</td>\n",
       "      <td>0.26%</td>\n",
       "    </tr>\n",
       "    <tr>\n",
       "      <th>2</th>\n",
       "      <td>May 24, 2017</td>\n",
       "      <td>1,253.10</td>\n",
       "      <td>1,251.10</td>\n",
       "      <td>1,258.80</td>\n",
       "      <td>1,247.60</td>\n",
       "      <td>257.36K</td>\n",
       "      <td>-0.19%</td>\n",
       "    </tr>\n",
       "  </tbody>\n",
       "</table>\n",
       "</div>"
      ],
      "text/plain": [
       "           Date     Price      Open      High       Low      Vol Change %\n",
       "0  May 26, 2017  1,268.10  1,255.10  1,269.30  1,252.60        -    0.93%\n",
       "1  May 25, 2017  1,256.40  1,258.40  1,259.40  1,253.50  202.85K    0.26%\n",
       "2  May 24, 2017  1,253.10  1,251.10  1,258.80  1,247.60  257.36K   -0.19%"
      ]
     },
     "execution_count": 57,
     "metadata": {},
     "output_type": "execute_result"
    }
   ],
   "source": [
    "getDefaultCommodityPrice()\n",
    "gold = pd.read_csv('gold.csv', delimiter=',')\n",
    "gold.head(3)\n"
   ]
  },
  {
   "cell_type": "code",
   "execution_count": 58,
   "metadata": {
    "collapsed": false
   },
   "outputs": [
    {
     "data": {
      "text/html": [
       "<div>\n",
       "<style>\n",
       "    .dataframe thead tr:only-child th {\n",
       "        text-align: right;\n",
       "    }\n",
       "\n",
       "    .dataframe thead th {\n",
       "        text-align: left;\n",
       "    }\n",
       "\n",
       "    .dataframe tbody tr th {\n",
       "        vertical-align: top;\n",
       "    }\n",
       "</style>\n",
       "<table border=\"1\" class=\"dataframe\">\n",
       "  <thead>\n",
       "    <tr style=\"text-align: right;\">\n",
       "      <th></th>\n",
       "      <th>Date</th>\n",
       "      <th>Price</th>\n",
       "      <th>Open</th>\n",
       "      <th>High</th>\n",
       "      <th>Low</th>\n",
       "      <th>Vol</th>\n",
       "      <th>Change %</th>\n",
       "    </tr>\n",
       "  </thead>\n",
       "  <tbody>\n",
       "    <tr>\n",
       "      <th>0</th>\n",
       "      <td>May 26, 2017</td>\n",
       "      <td>17.323</td>\n",
       "      <td>17.145</td>\n",
       "      <td>17.38</td>\n",
       "      <td>17.085</td>\n",
       "      <td>-</td>\n",
       "      <td>0.76%</td>\n",
       "    </tr>\n",
       "    <tr>\n",
       "      <th>1</th>\n",
       "      <td>May 25, 2017</td>\n",
       "      <td>17.193</td>\n",
       "      <td>17.215</td>\n",
       "      <td>17.26</td>\n",
       "      <td>17.125</td>\n",
       "      <td>57.92K</td>\n",
       "      <td>0.44%</td>\n",
       "    </tr>\n",
       "    <tr>\n",
       "      <th>2</th>\n",
       "      <td>May 24, 2017</td>\n",
       "      <td>17.117</td>\n",
       "      <td>17.050</td>\n",
       "      <td>17.23</td>\n",
       "      <td>16.895</td>\n",
       "      <td>82.16K</td>\n",
       "      <td>-0.13%</td>\n",
       "    </tr>\n",
       "  </tbody>\n",
       "</table>\n",
       "</div>"
      ],
      "text/plain": [
       "           Date   Price    Open   High     Low     Vol Change %\n",
       "0  May 26, 2017  17.323  17.145  17.38  17.085       -    0.76%\n",
       "1  May 25, 2017  17.193  17.215  17.26  17.125  57.92K    0.44%\n",
       "2  May 24, 2017  17.117  17.050  17.23  16.895  82.16K   -0.13%"
      ]
     },
     "execution_count": 58,
     "metadata": {},
     "output_type": "execute_result"
    }
   ],
   "source": [
    "silver = pd.read_csv('silver.csv', delimiter=',')\n",
    "silver.head(3)"
   ]
  },
  {
   "cell_type": "code",
   "execution_count": 59,
   "metadata": {
    "collapsed": false
   },
   "outputs": [],
   "source": [
    "def getCommodityPrice (start_date, end_date, commodity, interval='Daily'):\n",
    "    '''\n",
    "    This function will use a simple ajax post call to make session request\n",
    "    to fetch raw commodity data in xml. \n",
    "    \n",
    "    The CSV writer takes the commodity data from the parser and output\n",
    "    \n",
    "    Input:\n",
    "        start_date: String literal\n",
    "            Format: 03-03-2016 \n",
    "            \n",
    "        end_date: String literal\n",
    "            Format:03-03-2016\n",
    "    \n",
    "        commodity: String literal\n",
    "            Available options: {gold, silver}\n",
    "        \n",
    "        Interval: String (Optional)\n",
    "            Default: Daily\n",
    "            Available options: {Daily, Weekly, Monthly}\n",
    "   \n",
    "    Output: tuple array of integer\n",
    "            (mean, variance)\n",
    "       \n",
    "    Note: The output can be alter to avoid csv generation simply by keeping a running list\n",
    "    \n",
    "    Referene: \n",
    "        http://docs.python-requests.org/en/master/user/advanced/ #Usage of Session\n",
    "        https://stackoverflow.com/questions/3030487/is-there-a-way-to-get-the-xpath-in-google-chrome #xpath\n",
    "        https://docs.python.org/2/library/csv.html#writer-objects     #CSV writeable python\n",
    "    \n",
    "    '''\n",
    "    default_referer = 'https://www.investing.com/commodities/'\n",
    "    ajax_endpoint = 'https://www.investing.com/instruments/HistoricalDataAjax'\n",
    "    xpath_pattern = '//*[@id=\"curr_table\"]/tbody/tr/td/text()'\n",
    "    user_agent = 'Mozilla/5.0'\n",
    "    \n",
    "    #Safe guard against invalid date \n",
    "    if len(start_date.split('-')) < 1 or len(end_date.split('-')) < 1:\n",
    "        raise ValueError('Input date must in month-day-year format')\n",
    "    \n",
    "    st_date = '/'.join(start_date.split('-'))\n",
    "    end_date = '/'.join(end_date.split('-'))\n",
    "    \n",
    "    file_extension = '.csv'\n",
    "    csv_column = ['Date', 'Price', 'Open', 'High', 'Low', 'Vol', 'Change %']\n",
    "    \n",
    "    session = Session()\n",
    "    \n",
    "    #Safe guard against invalid commodity\n",
    "    if commodity != 'gold'and commodity != 'silver':\n",
    "        raise ValueError('Input commodity must be silver or gold')\n",
    "    \n",
    "    #AJAX request payload packaging\n",
    "    response = session.post(\n",
    "    url=ajax_endpoint,\n",
    "    data={\n",
    "        'action': 'historical_data',\n",
    "        'curr_id': '8830',\n",
    "        'st_date': start_date,\n",
    "        'end_date': end_date,\n",
    "        'interval_sec': interval\n",
    "    },\n",
    "    headers={\n",
    "        'Referer': ''.join([default_referer, commodity, '-historical-data']),\n",
    "        'user-agent' : xpath_pattern,\n",
    "        \"X-Requested-With\": \"XMLHttpRequest\"\n",
    "    })\n",
    "    \n",
    "    #HTML parser that looks for curr_table similar to the default function\n",
    "    tree = html.fromstring(response.text)\n",
    "    data = tree.xpath(xpath_pattern)\n",
    "    file_name = ''.join([commodity, file_extension])\n",
    "    \n",
    "    #CSV generation writing the default column and commodity price\n",
    "    with open(file_name, 'wb') as f:\n",
    "        writer = csv.writer(f)\n",
    "        try:\n",
    "            writer.writerow(csv_column)\n",
    "            for i in range(0, len(data), 7):\n",
    "                row = data[i:i+7]\n",
    "                writer.writerow(data[i:i+7])\n",
    "        except csv.Error as e:\n",
    "            sys.exit('file %s, word %d: %s' % (filename, i, e))        \n",
    "            \n",
    "    data = pd.read_csv(file_name, delimiter=',')\n",
    "    price = data.iloc[:,1].apply(lambda x: float(str(x).replace(',', '')))\n",
    "    mean = price.mean()\n",
    "    variance = price.var()\n",
    "    return commodity, mean, variance"
   ]
  },
  {
   "cell_type": "code",
   "execution_count": 60,
   "metadata": {
    "collapsed": false
   },
   "outputs": [
    {
     "name": "stdout",
     "output_type": "stream",
     "text": [
      "('gold', 1216.0333333333333, 64.65333333333342)\n"
     ]
    }
   ],
   "source": [
    "print getCommodityPrice('03/05/2017', '03/08/2017', 'gold')"
   ]
  },
  {
   "cell_type": "code",
   "execution_count": null,
   "metadata": {
    "collapsed": true
   },
   "outputs": [],
   "source": []
  },
  {
   "cell_type": "code",
   "execution_count": null,
   "metadata": {
    "collapsed": true
   },
   "outputs": [],
   "source": []
  }
 ],
 "metadata": {
  "kernelspec": {
   "display_name": "Python 2",
   "language": "python",
   "name": "python2"
  },
  "language_info": {
   "codemirror_mode": {
    "name": "ipython",
    "version": 2
   },
   "file_extension": ".py",
   "mimetype": "text/x-python",
   "name": "python",
   "nbconvert_exporter": "python",
   "pygments_lexer": "ipython2",
   "version": "2.7.13"
  }
 },
 "nbformat": 4,
 "nbformat_minor": 0
}
