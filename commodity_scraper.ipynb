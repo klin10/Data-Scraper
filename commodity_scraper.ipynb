{
 "cells": [
  {
   "cell_type": "code",
   "execution_count": 30,
   "metadata": {
    "collapsed": false
   },
   "outputs": [],
   "source": [
    "from urllib2 import Request, urlopen\n",
    "from requests import Session\n",
    "from lxml import html\n",
    "import requests\n",
    "import csv, sys\n",
    "import pandas as pd"
   ]
  },
  {
   "cell_type": "code",
   "execution_count": 31,
   "metadata": {
    "collapsed": true
   },
   "outputs": [],
   "source": [
    "def getDefaultCommodityPrice ():\n",
    "    '''\n",
    "    Default scraper that fetch from two end point (gold and silver)\n",
    "    Uses session and xpath to fetch data from the end point\n",
    "    \n",
    "    Output: Return void\n",
    "        Two files in the ./ with gold.xlsx and silver.xlsx\n",
    "    '''\n",
    "    commodities = ['gold', 'silver']\n",
    "    hist_substring = '-historical-data'\n",
    "    file_extension = '.csv'\n",
    "    csv_column = ['Date', 'Price', 'Open', 'High', 'Low', 'Vol', 'Change %']\n",
    "    end_point = 'https://www.investing.com/commodities/'\n",
    "    xpath_pattern = '//*[@id=\"curr_table\"]/tbody/tr/td/text()'\n",
    "    header = {'User-Agent': 'Mozilla/5.0'}\n",
    "\n",
    "    for commodity in commodities:\n",
    "        req = Request(''.join([end_point,commodity,hist_substring]), headers=header)\n",
    "        webpage = urlopen(req).read()\n",
    "        tree = html.fromstring(webpage)\n",
    "        data = tree.xpath(xpath_pattern)\n",
    "        filename = ''.join([commodity, file_extension])\n",
    "        with open(filename, 'wb') as f:\n",
    "            writer = csv.writer(f)\n",
    "            writer.writerow(csv_column)\n",
    "            for i in range(0, len(data), 7):\n",
    "                writer.writerow(data[i:i+7])"
   ]
  },
  {
   "cell_type": "code",
   "execution_count": 32,
   "metadata": {
    "collapsed": false
   },
   "outputs": [],
   "source": [
    "getDefaultCommodityPrice()"
   ]
  },
  {
   "cell_type": "code",
   "execution_count": 33,
   "metadata": {
    "collapsed": false
   },
   "outputs": [],
   "source": [
    "def getCommodityPrice (start_date, end_date, commodity, interval='Daily'):\n",
    "    '''\n",
    "    This function will use a simple ajax post call to make session request\n",
    "    to fetch raw commodity data in xml. \n",
    "    \n",
    "    The CSV writer takes the commodity data from the parser and output\n",
    "    \n",
    "    Input:\n",
    "        start_date: String\n",
    "            Format: 03-03-2016 or 04/04/2016\n",
    "            \n",
    "        end_date: String\n",
    "            Format:03-03-2016 or 04/04/2016\n",
    "    \n",
    "        commodity: String \n",
    "            Available options: {gold, silver}\n",
    "   \n",
    "    Output: tuple array of integer\n",
    "            (mean, variance)\n",
    "       \n",
    "    Note: The output can be alter to avoid csv generation simply by keeping a running list\n",
    "    \n",
    "    Referene: \n",
    "        http://docs.python-requests.org/en/master/user/advanced/ #Usage of Session\n",
    "        https://stackoverflow.com/questions/3030487/is-there-a-way-to-get-the-xpath-in-google-chrome #xpath\n",
    "        https://docs.python.org/2/library/csv.html#writer-objects     #CSV writeable python\n",
    "    \n",
    "    '''\n",
    "    default_referer = 'https://www.investing.com/commodities/'\n",
    "    ajax_endpoint = 'https://www.investing.com/instruments/HistoricalDataAjax'\n",
    "    xpath_pattern = '//*[@id=\"curr_table\"]/tbody/tr/td/text()'\n",
    "    user_agent = 'Mozilla/5.0'\n",
    "    \n",
    "    #Safe guard against invalid date \n",
    "    if len(start_date.split('-')) < 1 or len(end_date.split('-')) < 1:\n",
    "        raise ValueError('Input date must in month-day-year format')\n",
    "    \n",
    "    st_date = '/'.join(start_date.split('-'))\n",
    "    end_date = '/'.join(end_date.split('-'))\n",
    "    \n",
    "    file_extension = '.csv'\n",
    "    csv_column = ['Date', 'Price', 'Open', 'High', 'Low', 'Vol', 'Change %']\n",
    "    \n",
    "    session = Session()\n",
    "    \n",
    "    #Safe guard against invalid commodity\n",
    "    if commodity != 'gold'and commodity != 'silver':\n",
    "        raise ValueError('Input commodity must be silver or gold')\n",
    "        \n",
    "    response = session.post(\n",
    "    url=ajax_endpoint,\n",
    "    data={\n",
    "        'action': 'historical_data',\n",
    "        'curr_id': '8830',\n",
    "        'st_date': start_date,\n",
    "        'end_date': end_date,\n",
    "        'interval_sec': interval\n",
    "    },\n",
    "    headers={\n",
    "        'Referer': ''.join([default_referer, commodity, '-historical-data']),\n",
    "        'user-agent' : xpath_pattern,\n",
    "        \"X-Requested-With\": \"XMLHttpRequest\"\n",
    "    })\n",
    "    \n",
    "    tree = html.fromstring(response.text)\n",
    "    data = tree.xpath(xpath_pattern)\n",
    "    file_name = ''.join([commodity, file_extension])\n",
    "    \n",
    "    #CSV generation writing the default column and commodity price\n",
    "    with open(file_name, 'wb') as f:\n",
    "        writer = csv.writer(f)\n",
    "        try:\n",
    "            writer.writerow(csv_column)\n",
    "            for i in range(0, len(data), 7):\n",
    "                row = data[i:i+7]\n",
    "                writer.writerow(data[i:i+7])\n",
    "        except csv.Error as e:\n",
    "            sys.exit('file %s, word %d: %s' % (filename, i, e))        \n",
    "            \n",
    "    data = pd.read_csv(file_name, delimiter=',')\n",
    "    price = data.iloc[:,1].apply(lambda x: float(str(x).replace(',', '')))\n",
    "    mean = price.mean()\n",
    "    variance = price.var()\n",
    "    return mean, variance"
   ]
  },
  {
   "cell_type": "code",
   "execution_count": 34,
   "metadata": {
    "collapsed": false
   },
   "outputs": [
    {
     "name": "stdout",
     "output_type": "stream",
     "text": [
      "(1216.0333333333333, 64.65333333333342)\n"
     ]
    }
   ],
   "source": [
    "print getCommodityPrice('03/05/2017', '03/08/2017', 'gold')"
   ]
  },
  {
   "cell_type": "code",
   "execution_count": null,
   "metadata": {
    "collapsed": true
   },
   "outputs": [],
   "source": []
  }
 ],
 "metadata": {
  "kernelspec": {
   "display_name": "Python 2",
   "language": "python",
   "name": "python2"
  },
  "language_info": {
   "codemirror_mode": {
    "name": "ipython",
    "version": 2
   },
   "file_extension": ".py",
   "mimetype": "text/x-python",
   "name": "python",
   "nbconvert_exporter": "python",
   "pygments_lexer": "ipython2",
   "version": "2.7.13"
  }
 },
 "nbformat": 4,
 "nbformat_minor": 0
}
